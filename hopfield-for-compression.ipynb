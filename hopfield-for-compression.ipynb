{
 "cells": [
  {
   "cell_type": "code",
   "execution_count": 2,
   "id": "initial_id",
   "metadata": {
    "collapsed": true,
    "ExecuteTime": {
     "end_time": "2024-03-09T18:39:57.020272900Z",
     "start_time": "2024-03-09T18:39:55.197254600Z"
    }
   },
   "outputs": [
    {
     "name": "stdout",
     "output_type": "stream",
     "text": [
      "CUDA is available for use with PyTorch: True\n",
      "Installed Python version:  3.8.18\n",
      "Installed PyTorch version: 2.1.2+cu121\n",
      "Date: 2024-03-09-(18-39-56)\n"
     ]
    }
   ],
   "source": [
    "# Imports as always.\n",
    "import os\n",
    "import re\n",
    "import sys\n",
    "import numpy as np\n",
    "import matplotlib.pyplot as plt\n",
    "import seaborn as sns\n",
    "\n",
    "import dataclasses\n",
    "from dataclasses import dataclass\n",
    "\n",
    "import torch\n",
    "from torch import nn\n",
    "from torch.utils.data import Dataset, DataLoader\n",
    "\n",
    "import torchvision\n",
    "from torchvision import transforms\n",
    "\n",
    "from PIL import Image\n",
    "\n",
    "from hflayers import Hopfield, HopfieldLayer, HopfieldPooling\n",
    "\n",
    "from datetime import datetime\n",
    "\n",
    "from tqdm.notebook import tqdm\n",
    "\n",
    "from data_handling import ISICDataset\n",
    "\n",
    "# Ignore warnings.\n",
    "import warnings\n",
    "warnings.filterwarnings('ignore')\n",
    "\n",
    "# Beautification.\n",
    "sns.set_context('paper')\n",
    "sns.set_style('darkgrid')\n",
    "\n",
    "print(f'CUDA is available for use with PyTorch: {torch.cuda.is_available()}')\n",
    "if torch.cuda.is_available():\n",
    "    torch.set_default_tensor_type('torch.cuda.FloatTensor')\n",
    "    torch.set_default_device('cuda')\n",
    "\n",
    "print(f'Installed Python version:  {sys.version_info.major}.{sys.version_info.minor}.{sys.version_info.micro}')\n",
    "print(f'Installed PyTorch version: {torch.__version__}')\n",
    "\n",
    "# Helper function to send a tensor/model/etc. to the CPU/GPU accordingly.\n",
    "def to_device(x):\n",
    "    if torch.cuda.is_available():\n",
    "        return x.cuda()\n",
    "    else:\n",
    "        return x.cpu()\n",
    "    \n",
    "# Helper function for closing figures.\n",
    "def close_figures():\n",
    "    while len(plt.get_fignums()) > 0:\n",
    "        plt.close()\n",
    "        \n",
    "# Get the current data and time as a string.\n",
    "date_string = datetime.now().strftime('%Y-%m-%d-(%H-%M-%S)')\n",
    "\n",
    "print(f'Date: {date_string}')"
   ]
  },
  {
   "cell_type": "code",
   "execution_count": null,
   "outputs": [],
   "source": [
    "# The compression model.\n",
    "from compression.Models import TCM"
   ],
   "metadata": {
    "collapsed": false
   },
   "id": "23c624ee1521dc10"
  }
 ],
 "metadata": {
  "kernelspec": {
   "display_name": "Python 3",
   "language": "python",
   "name": "python3"
  },
  "language_info": {
   "codemirror_mode": {
    "name": "ipython",
    "version": 2
   },
   "file_extension": ".py",
   "mimetype": "text/x-python",
   "name": "python",
   "nbconvert_exporter": "python",
   "pygments_lexer": "ipython2",
   "version": "2.7.6"
  }
 },
 "nbformat": 4,
 "nbformat_minor": 5
}
