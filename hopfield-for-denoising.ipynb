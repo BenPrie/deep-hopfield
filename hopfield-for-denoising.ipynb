{
 "cells": [
  {
   "cell_type": "code",
   "execution_count": 1,
   "id": "initial_id",
   "metadata": {
    "collapsed": true,
    "ExecuteTime": {
     "end_time": "2024-01-25T00:39:29.466691500Z",
     "start_time": "2024-01-25T00:39:27.323237500Z"
    }
   },
   "outputs": [],
   "source": [
    "# Imports as always.\n",
    "import numpy as np\n",
    "import matplotlib.pyplot as plt\n",
    "\n",
    "import torch\n",
    "import torch.nn.functional as F\n",
    "\n",
    "import torchvision\n",
    "from torchvision import transforms\n",
    "\n",
    "from hflayers import Hopfield, HopfieldLayer, HopfieldPooling\n",
    "\n",
    "# Ignore warnings.\n",
    "import warnings\n",
    "warnings.filterwarnings('ignore')"
   ]
  },
  {
   "cell_type": "code",
   "execution_count": 2,
   "outputs": [
    {
     "name": "stdout",
     "output_type": "stream",
     "text": [
      "CUDA is available for use with PyTorch: True\n"
     ]
    }
   ],
   "source": [
    "print(f'CUDA is available for use with PyTorch: {torch.cuda.is_available()}')"
   ],
   "metadata": {
    "collapsed": false,
    "ExecuteTime": {
     "end_time": "2024-01-25T00:39:32.768927600Z",
     "start_time": "2024-01-25T00:39:32.764353Z"
    }
   },
   "id": "21f3079504a57248"
  },
  {
   "cell_type": "code",
   "execution_count": 3,
   "outputs": [
    {
     "name": "stdout",
     "output_type": "stream",
     "text": [
      "Installed Python version:  3.8.18\n",
      "Installed PyTorch version: 2.1.2+cu121\n"
     ]
    }
   ],
   "source": [
    "import sys\n",
    "\n",
    "print(f'Installed Python version:  {sys.version_info.major}.{sys.version_info.minor}.{sys.version_info.micro}')\n",
    "print(f'Installed PyTorch version: {torch.__version__}')"
   ],
   "metadata": {
    "collapsed": false,
    "ExecuteTime": {
     "end_time": "2024-01-25T00:50:24.135526600Z",
     "start_time": "2024-01-25T00:50:24.068379500Z"
    }
   },
   "id": "8a8edbd19e2eb30"
  },
  {
   "cell_type": "markdown",
   "source": [
    "# Exploring the De-noising Capabilities of Continuous Hopfield Networks\n",
    "\n",
    "This notebook explores several ideas, including:\n",
    "- Whether continuous Hopfield layers are useful as a pre-processing step in otherwise typical classification as a deliberate attempt at de-noising or an introduction of clarity."
   ],
   "metadata": {
    "collapsed": false
   },
   "id": "7126e54cf4f47aca"
  },
  {
   "cell_type": "code",
   "execution_count": null,
   "outputs": [],
   "source": [],
   "metadata": {
    "collapsed": false
   },
   "id": "d7dd08402d5f7678"
  }
 ],
 "metadata": {
  "kernelspec": {
   "display_name": "Python 3",
   "language": "python",
   "name": "python3"
  },
  "language_info": {
   "codemirror_mode": {
    "name": "ipython",
    "version": 2
   },
   "file_extension": ".py",
   "mimetype": "text/x-python",
   "name": "python",
   "nbconvert_exporter": "python",
   "pygments_lexer": "ipython2",
   "version": "2.7.6"
  }
 },
 "nbformat": 4,
 "nbformat_minor": 5
}
