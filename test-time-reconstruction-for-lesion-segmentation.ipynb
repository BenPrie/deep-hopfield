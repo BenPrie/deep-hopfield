{
 "cells": [
  {
   "cell_type": "code",
   "execution_count": null,
   "id": "initial_id",
   "metadata": {
    "collapsed": true
   },
   "outputs": [],
   "source": [
    "# Imports as always.\n",
    "import os\n",
    "import re\n",
    "import matplotlib.pyplot as plt\n",
    "\n",
    "import torch\n",
    "from torch import nn\n",
    "from torch.utils.data import Dataset, DataLoader\n",
    "\n",
    "import torchvision\n",
    "from torchvision import transforms\n",
    "\n",
    "from PIL import Image\n",
    "\n",
    "from hflayers import Hopfield, HopfieldLayer, HopfieldPooling\n",
    "\n",
    "from datetime import datetime\n",
    "\n",
    "# Get the current data and time as a string.\n",
    "date_string = datetime.now().strftime('%Y-%m-%d-(%H-%M-%S)')\n",
    "\n",
    "# Ignore warnings.\n",
    "import warnings\n",
    "warnings.filterwarnings('ignore')"
   ]
  },
  {
   "cell_type": "code",
   "execution_count": null,
   "outputs": [],
   "source": [
    "print(f'CUDA is available for use with PyTorch: {torch.cuda.is_available()}')"
   ],
   "metadata": {
    "collapsed": false
   },
   "id": "c1a57f0aed120634"
  },
  {
   "cell_type": "code",
   "execution_count": null,
   "outputs": [],
   "source": [
    "import sys\n",
    "\n",
    "print(f'Installed Python version:  {sys.version_info.major}.{sys.version_info.minor}.{sys.version_info.micro}')\n",
    "print(f'Installed PyTorch version: {torch.__version__}')"
   ],
   "metadata": {
    "collapsed": false
   },
   "id": "729198f32f4c9e37"
  },
  {
   "cell_type": "code",
   "execution_count": null,
   "outputs": [],
   "source": [
    "# Change this as necessary. Unzip all downloaded data into this directory, keeping default naming.\n",
    "data_directory = './data/ISIC2018/'"
   ],
   "metadata": {
    "collapsed": false
   },
   "id": "6764798b4d88732f"
  },
  {
   "cell_type": "code",
   "execution_count": null,
   "outputs": [],
   "source": [
    "# Helper function to send a tensor/model/etc. to the CPU/GPU accordingly.\n",
    "def to_device(x):\n",
    "    if torch.cuda.is_available():\n",
    "        return x.cuda()\n",
    "    else:\n",
    "        return x.cpu()"
   ],
   "metadata": {
    "collapsed": false
   },
   "id": "bcc71896951ba39a"
  },
  {
   "cell_type": "markdown",
   "source": [
    "# Test-time Reconstruction for Lesion Segmentation\n",
    "\n",
    "\"Test-time\" reconstruction refers to a task of our own proposing consisting of the training of a model on 'perfect' data, then testing its performance on 'damaged' data. The goal here is to develop a model that has some innate understanding of the training data's form so that it is able to 'reconstruct' the perfection from the damage at test-time, and thus succeed at the task (e.g. segmentation) irrespective of the damage. *Importantly, we do not use damaged data for a validation set*, as the model should not be exposed to any form of damage prior to testing. \n",
    "\n",
    "Keeping to a consistent theme, we are considering the segmentation of lesions in the ISIC 2018 dataset.\n",
    "\n",
    "We are keen to explore the ability for a continuous Hopfield network to enable good test-time reconstructive capabilities, as an immediate by-product of the intended infusion of memory. To do this, the following experiments are conducted:\n",
    "- **End-to-end auto-reconstruction**: optimistically, one hopes that simply using Hopfield layers within the architecture is enough to learn this reconstructive ability automatically. This experiment looks to train a memory-infused model end-to-end for lesion segmentation, then test on damaged data to observe the natural ability for test-time reconstruction without specific prompting or pre-training.\n",
    "- **Pre-trained reconstructive unit(s)**: pessimistically, one expects that a lack of reconstructive training leaves the Hopfield layers without a specific goal and so without a natural ability. This experiment pre-trains one or more Hopfield layers to reconstruct lesions and/or target masks, then employs them as a pre-processing unit for an otherwise standard lesion segmentation model.\n",
    "- **Post-process reconstruction**: another idea is to consider Hopfield layers as being able to correct output from kernel-style models to reconstruct the model's process itself, rather than the data. This experiment exclusively uses Hopfield layers (and Hopfield pooling layers) following convolution layers so that, at test-time, the kernel activation provides input to the Hopfield layer to be repaired following exposure to damaged data.\n",
    "\n",
    "In all experiments, the test masks will be perfect. If this were not the case, we would be evaluating the performance of our model to predict masks damaged in the same way as the data! And while this would be very interesting -- that the model has learned the pattern of damage -- it does not help us in defining a reconstructive model outright.\n",
    "\n",
    "A further experiment we might like to perform is to explore how capable these Hopfield layers are in defining models capable of *measuring the degree of damage* in its reconstruction pipeline. Simplistically, we might take the energy difference between the damaged input and perfect output.\n",
    "\n",
    "A final point: it is worth considering whether training a model to have test-time reconstructive function limits or degrades its task performance on perfect data. We should explore whether a model showing good reconstructive performance exhibits a degradation to segmentation performance when tested on pure data. If such degradation exists, then it may become desirable to have an independent, pre-trained reconstructive unit available as a pre-processing step that one may opt not to use if the data is understood to be of high quality. In practice, you can imagine that we might only apply our pre-processing reconstruction if the data are very likely to be damaged somehow (e.g. receiving medical imagery over a compromised communication channel, working with uncooperative patients that may hinder data collection methods, etc.) "
   ],
   "metadata": {
    "collapsed": false
   },
   "id": "8f34c98aa13616d1"
  }
 ],
 "metadata": {
  "kernelspec": {
   "display_name": "Python 3",
   "language": "python",
   "name": "python3"
  },
  "language_info": {
   "codemirror_mode": {
    "name": "ipython",
    "version": 2
   },
   "file_extension": ".py",
   "mimetype": "text/x-python",
   "name": "python",
   "nbconvert_exporter": "python",
   "pygments_lexer": "ipython2",
   "version": "2.7.6"
  }
 },
 "nbformat": 4,
 "nbformat_minor": 5
}
