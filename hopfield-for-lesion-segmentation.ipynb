{
 "cells": [
  {
   "cell_type": "code",
   "execution_count": 1,
   "id": "initial_id",
   "metadata": {
    "collapsed": true,
    "ExecuteTime": {
     "end_time": "2024-01-25T00:56:29.840782700Z",
     "start_time": "2024-01-25T00:56:28.221067500Z"
    }
   },
   "outputs": [],
   "source": [
    "# Imports as always.\n",
    "import numpy as np\n",
    "import matplotlib.pyplot as plt\n",
    "\n",
    "import torch\n",
    "import torch.nn.functional as F\n",
    "\n",
    "import torchvision\n",
    "from torchvision import transforms\n",
    "\n",
    "from hflayers import Hopfield, HopfieldLayer, HopfieldPooling\n",
    "\n",
    "# Ignore warnings.\n",
    "import warnings\n",
    "warnings.filterwarnings('ignore')"
   ]
  },
  {
   "cell_type": "code",
   "execution_count": 2,
   "outputs": [
    {
     "name": "stdout",
     "output_type": "stream",
     "text": [
      "CUDA is available for use with PyTorch: True\n"
     ]
    }
   ],
   "source": [
    "print(f'CUDA is available for use with PyTorch: {torch.cuda.is_available()}')"
   ],
   "metadata": {
    "collapsed": false,
    "ExecuteTime": {
     "end_time": "2024-01-25T00:56:30.621646300Z",
     "start_time": "2024-01-25T00:56:30.617647400Z"
    }
   },
   "id": "8e1e2a2f08f3567f"
  },
  {
   "cell_type": "code",
   "execution_count": 3,
   "outputs": [
    {
     "name": "stdout",
     "output_type": "stream",
     "text": [
      "Installed Python version:  3.8.18\n",
      "Installed PyTorch version: 2.1.2+cu121\n"
     ]
    }
   ],
   "source": [
    "import sys\n",
    "\n",
    "print(f'Installed Python version:  {sys.version_info.major}.{sys.version_info.minor}.{sys.version_info.micro}')\n",
    "print(f'Installed PyTorch version: {torch.__version__}')"
   ],
   "metadata": {
    "collapsed": false,
    "ExecuteTime": {
     "end_time": "2024-01-25T00:56:32.753330300Z",
     "start_time": "2024-01-25T00:56:32.701302500Z"
    }
   },
   "id": "a2c1b3f260ffc77d"
  },
  {
   "cell_type": "markdown",
   "source": [
    "# Attention-like Continuous Hopfield Networks for Lesion Segmentation\n",
    "\n",
    "Lesion segmentation is the task of identifying lesions in medical imagery. More generally, image segmentation is the task of separating objects and layers within an image. \n",
    "\n",
    "There are plenty of lesion segmentation benchmarks on [paperswithcode.com](https://paperswithcode.com/task/lesion-segmentation). I quite like the look of the [ISIC Challenge Datasets](https://challenge.isic-archive.com/data/#2020), which ran as a competition between 2016 to 2020."
   ],
   "metadata": {
    "collapsed": false
   },
   "id": "2e3bdc3c54d3ed5c"
  }
 ],
 "metadata": {
  "kernelspec": {
   "display_name": "Python 3",
   "language": "python",
   "name": "python3"
  },
  "language_info": {
   "codemirror_mode": {
    "name": "ipython",
    "version": 2
   },
   "file_extension": ".py",
   "mimetype": "text/x-python",
   "name": "python",
   "nbconvert_exporter": "python",
   "pygments_lexer": "ipython2",
   "version": "2.7.6"
  }
 },
 "nbformat": 4,
 "nbformat_minor": 5
}
